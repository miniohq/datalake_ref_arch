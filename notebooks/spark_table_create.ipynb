{
 "cells": [
  {
   "cell_type": "code",
   "execution_count": null,
   "id": "d79f8602-c39c-4ce4-9247-0d657602d2aa",
   "metadata": {},
   "outputs": [],
   "source": [
    "import pyspark\n",
    "from pyspark.sql import SparkSession\n",
    "import os\n",
    "\n",
    "## DEFINE SENSITIVE VARIABLES\n",
    "NESSIE_URI = os.environ.get(\"NESSIE_URI\") # Nessie Server URI\n",
    "NESSIE_WAREHOUSE_LOCATION = os.environ.get(\"NESSIE_WAREHOUSE_LOCATION\") # BUCKET TO WRITE DATA TOO\n",
    "MINIO_ACCESS_KEY = os.environ.get(\"MINIO_ACCESS_KEY\") # MINIO CREDENTIALS\n",
    "MINIO_SECRET_ACCESS_KEY = os.environ.get(\"MINIO_SECRET_ACCESS_KEY\") # MINIO CREDENTIALS\n",
    "MINIO_S3_ENDPOINT= os.environ.get(\"MINIO_S3_ENDPOINT\") # MINIO S3 ENDPOINT\n",
    "\n",
    "# We must set a few explicit environment variables to make spark and pyIceberg happy\n",
    "os.environ[\"AWS_ACCESS_KEY_ID\"] = MINIO_ACCESS_KEY\n",
    "os.environ[\"AWS_SECRET_ACCESS_KEY\"] = MINIO_SECRET_ACCESS_KEY\n",
    "os.environ[\"AWS_S3_ENDPOINT\"] = MINIO_S3_ENDPOINT\n",
    "\n",
    "print(f\"MINIO_S3_ENDPOINT={MINIO_S3_ENDPOINT}\")\n",
    "print(f\"NESSIE_URI={NESSIE_URI}\")\n",
    "print(f\"NESSIE_WAREHOUSE_LOCATION={NESSIE_WAREHOUSE_LOCATION}\")"
   ]
  },
  {
   "cell_type": "code",
   "execution_count": null,
   "id": "f1747297-6697-4246-9a24-44f395329755",
   "metadata": {},
   "outputs": [],
   "source": [
    "conf = (\n",
    "    pyspark.SparkConf()\n",
    "        .setAppName('minio_datalake_with_spark_table_create')\n",
    "        .set('spark.jars.packages', 'org.apache.iceberg:iceberg-spark-runtime-3.5_2.12:1.4.3,org.projectnessie.nessie-integrations:nessie-spark-extensions-3.5_2.12:0.76.3,software.amazon.awssdk:bundle:2.17.178,software.amazon.awssdk:url-connection-client:2.17.178')\n",
    "        .set('spark.sql.extensions', 'org.apache.iceberg.spark.extensions.IcebergSparkSessionExtensions,org.projectnessie.spark.extensions.NessieSparkSessionExtensions')\n",
    "        .set('spark.sql.catalog.nessie', 'org.apache.iceberg.spark.SparkCatalog')\n",
    "        .set('spark.sql.catalog.nessie.uri', NESSIE_URI)\n",
    "        .set('spark.sql.catalog.nessie.ref', 'main')\n",
    "        .set('spark.sql.catalog.nessie.authentication.type', 'NONE')\n",
    "        .set('spark.sql.catalog.nessie.catalog-impl', 'org.apache.iceberg.nessie.NessieCatalog')\n",
    "        .set('spark.sql.catalog.nessie.s3.endpoint', MINIO_S3_ENDPOINT)\n",
    "        .set('spark.sql.catalog.nessie.warehouse', NESSIE_WAREHOUSE_LOCATION)\n",
    "        .set('spark.sql.catalog.nessie.io-impl', 'org.apache.iceberg.aws.s3.S3FileIO')\n",
    "        .set('spark.hadoop.fs.s3a.access.key', MINIO_ACCESS_KEY)\n",
    "        .set('spark.hadoop.fs.s3a.secret.key', MINIO_SECRET_ACCESS_KEY)\n",
    ")\n",
    "\n",
    "## Start Spark Session\n",
    "spark = SparkSession.builder.config(conf=conf).getOrCreate()\n",
    "print(\"Spark Running\")"
   ]
  },
  {
   "cell_type": "code",
   "execution_count": null,
   "id": "7e44b7c1-4c01-4420-a729-e703e271a301",
   "metadata": {},
   "outputs": [],
   "source": [
    "## Drop Table if exists\n",
    "spark.sql(\"DROP TABLE IF EXISTS nessie.subjects\")\n",
    "\n",
    "## Create a Table\n",
    "spark.sql(\"CREATE TABLE nessie.subjects (subject STRING) USING iceberg;\").show()\n",
    "\n",
    "## Insert Some Data\n",
    "spark.sql(\"INSERT INTO nessie.subjects VALUES ('Math'), ('Social Studies'), ('Geography')\").show()"
   ]
  },
  {
   "cell_type": "code",
   "execution_count": null,
   "id": "aff0f60f-a23b-46c7-b188-b12a30357917",
   "metadata": {},
   "outputs": [],
   "source": [
    "## Query the Data\n",
    "spark.sql(\"SELECT * FROM nessie.subjects;\").show()"
   ]
  }
 ],
 "metadata": {
  "kernelspec": {
   "display_name": "Python 3 (ipykernel)",
   "language": "python",
   "name": "python3"
  },
  "language_info": {
   "codemirror_mode": {
    "name": "ipython",
    "version": 3
   },
   "file_extension": ".py",
   "mimetype": "text/x-python",
   "name": "python",
   "nbconvert_exporter": "python",
   "pygments_lexer": "ipython3",
   "version": "3.10.12"
  }
 },
 "nbformat": 4,
 "nbformat_minor": 5
}
